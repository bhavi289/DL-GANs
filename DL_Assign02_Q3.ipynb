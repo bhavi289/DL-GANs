{
  "nbformat": 4,
  "nbformat_minor": 0,
  "metadata": {
    "colab": {
      "name": "DL_Assign02_Q3.ipynb",
      "version": "0.3.2",
      "provenance": [],
      "collapsed_sections": [],
      "include_colab_link": true
    },
    "kernelspec": {
      "name": "python3",
      "display_name": "Python 3"
    },
    "accelerator": "GPU"
  },
  "cells": [
    {
      "cell_type": "markdown",
      "metadata": {
        "id": "view-in-github",
        "colab_type": "text"
      },
      "source": [
        "<a href=\"https://colab.research.google.com/github/bhavi289/DL-GANs/blob/master/DL_Assign02_Q3.ipynb\" target=\"_parent\"><img src=\"https://colab.research.google.com/assets/colab-badge.svg\" alt=\"Open In Colab\"/></a>"
      ]
    },
    {
      "metadata": {
        "id": "I095TGRVU6Io",
        "colab_type": "code",
        "colab": {
          "base_uri": "https://localhost:8080/",
          "height": 1020
        },
        "outputId": "7735a797-223b-455b-88ee-6f4980a66570"
      },
      "cell_type": "code",
      "source": [
        "!pip install -q tensorflow-gpu==2.0.0-alpha0\n",
        "import tensorflow as tf"
      ],
      "execution_count": 3,
      "outputs": [
        {
          "output_type": "stream",
          "text": [
            "\u001b[K    100% |████████████████████████████████| 332.1MB 26kB/s \n",
            "\u001b[K    100% |████████████████████████████████| 3.0MB 5.7MB/s \n",
            "\u001b[K    100% |████████████████████████████████| 61kB 20.5MB/s \n",
            "\u001b[K    100% |████████████████████████████████| 419kB 10.8MB/s \n",
            "\u001b[?25h"
          ],
          "name": "stdout"
        }
      ]
    },
    {
      "metadata": {
        "id": "XiKm9-_WVbOU",
        "colab_type": "code",
        "colab": {}
      },
      "cell_type": "code",
      "source": [
        "from __future__ import absolute_import, division, print_function\n",
        "import tensorflow as tf"
      ],
      "execution_count": 0,
      "outputs": []
    },
    {
      "metadata": {
        "id": "b0-9pHszVfjW",
        "colab_type": "code",
        "colab": {
          "base_uri": "https://localhost:8080/",
          "height": 76
        },
        "outputId": "46235fb4-ec42-4dbe-8d6a-48f282607422"
      },
      "cell_type": "code",
      "source": [
        "tf.__version__"
      ],
      "execution_count": 2,
      "outputs": [
        {
          "output_type": "execute_result",
          "data": {
            "text/plain": [
              "'2.0.0-alpha0'"
            ]
          },
          "metadata": {
            "tags": []
          },
          "execution_count": 2
        }
      ]
    },
    {
      "metadata": {
        "id": "_Da_zulIVmHR",
        "colab_type": "code",
        "colab": {
          "base_uri": "https://localhost:8080/",
          "height": 76
        },
        "outputId": "71fbbc18-fc9c-4402-e25c-22db7eeae841"
      },
      "cell_type": "code",
      "source": [
        "# Load the Drive helper and mount\n",
        "import math\n",
        "import numpy as np\n",
        "import h5py\n",
        "import matplotlib.pyplot as plt\n",
        "import matplotlib\n",
        "import scipy\n",
        "from PIL import Image\n",
        "from scipy import ndimage\n",
        "import tensorflow as tf\n",
        "from tensorflow.python.framework import ops\n",
        "import os\n",
        "from sklearn.model_selection import train_test_split\n",
        "from google.colab import drive\n",
        "\n",
        "# This will prompt for authorization.\n",
        "drive.mount('/content/drive')"
      ],
      "execution_count": 3,
      "outputs": [
        {
          "output_type": "stream",
          "text": [
            "Drive already mounted at /content/drive; to attempt to forcibly remount, call drive.mount(\"/content/drive\", force_remount=True).\n"
          ],
          "name": "stdout"
        }
      ]
    },
    {
      "metadata": {
        "id": "nWnIxSKjVpko",
        "colab_type": "code",
        "colab": {}
      },
      "cell_type": "code",
      "source": [
        "dataset_path = 'drive/My Drive/DL Assign2 GAN Dataset/faces94/'"
      ],
      "execution_count": 0,
      "outputs": []
    },
    {
      "metadata": {
        "id": "lpi2eGoCWpbm",
        "colab_type": "code",
        "colab": {
          "base_uri": "https://localhost:8080/",
          "height": 76
        },
        "outputId": "431ba996-e695-4374-a755-9a8cbfa8ab62"
      },
      "cell_type": "code",
      "source": [
        "os.walk(dataset_path)"
      ],
      "execution_count": 5,
      "outputs": [
        {
          "output_type": "execute_result",
          "data": {
            "text/plain": [
              "<generator object walk at 0x7fb14ef8c258>"
            ]
          },
          "metadata": {
            "tags": []
          },
          "execution_count": 5
        }
      ]
    },
    {
      "metadata": {
        "id": "zRdphnk3WrJV",
        "colab_type": "code",
        "colab": {
          "base_uri": "https://localhost:8080/",
          "height": 76
        },
        "outputId": "610983f0-0143-47bd-8348-27aab050443b"
      },
      "cell_type": "code",
      "source": [
        "'''flag = 0\n",
        "X, y = '', ''\n",
        "for root, _, files in os.walk(dataset_path):\n",
        "  for file in files:\n",
        "    try:\n",
        "        # file_path = root + '/' + file\n",
        "        # class is dependent variable. Taken from folder name where images are kept\n",
        "        # ground_truth = int(file_path.strip().split('/')[-2]) -1\n",
        "        print (file)\n",
        "        file_path = dataset_path\n",
        "#         im = matplotlib.pyplot.imread(file)\n",
        "#         image = np.array(im)\n",
        "#         if flag == 0:\n",
        "#           flag = 1\n",
        "#           X = np.array([image])\n",
        "#         else:\n",
        "#           X = np.append(X, [image], axis=0)\n",
        "    except Exception as e:\n",
        "        print (e)   \n",
        "        pass\n",
        "\n",
        "# data, labels = np.arange(10).reshape((5, 2)), range(5)\n",
        "# data_train, data_test, labels_train, labels_test = train_test_split(data, labels, test_size=0.20, random_state=42)\n",
        "\n",
        "# x_train, x_test, y_train, y_test = train_test_split(X, y, test_size=0.3)\n",
        "\n",
        "# print (\"success\")\n",
        "print (X, len(X))'''"
      ],
      "execution_count": 6,
      "outputs": [
        {
          "output_type": "execute_result",
          "data": {
            "text/plain": [
              "'flag = 0\\nX, y = \\'\\', \\'\\'\\nfor root, _, files in os.walk(dataset_path):\\n  for file in files:\\n    try:\\n        # file_path = root + \\'/\\' + file\\n        # class is dependent variable. Taken from folder name where images are kept\\n        # ground_truth = int(file_path.strip().split(\\'/\\')[-2]) -1\\n        print (file)\\n        file_path = dataset_path\\n#         im = matplotlib.pyplot.imread(file)\\n#         image = np.array(im)\\n#         if flag == 0:\\n#           flag = 1\\n#           X = np.array([image])\\n#         else:\\n#           X = np.append(X, [image], axis=0)\\n    except Exception as e:\\n        print (e)   \\n        pass\\n\\n# data, labels = np.arange(10).reshape((5, 2)), range(5)\\n# data_train, data_test, labels_train, labels_test = train_test_split(data, labels, test_size=0.20, random_state=42)\\n\\n# x_train, x_test, y_train, y_test = train_test_split(X, y, test_size=0.3)\\n\\n# print (\"success\")\\nprint (X, len(X))'"
            ]
          },
          "metadata": {
            "tags": []
          },
          "execution_count": 6
        }
      ]
    },
    {
      "metadata": {
        "id": "Zv4CR5HMWtFD",
        "colab_type": "code",
        "colab": {}
      },
      "cell_type": "code",
      "source": [
        "%matplotlib inline \n",
        "import matplotlib.pyplot as plt \n",
        "import numpy as np\n",
        "import PIL\n",
        "import tensorflow.keras.layers as layers\n",
        "import time\n",
        "from IPython import display"
      ],
      "execution_count": 0,
      "outputs": []
    },
    {
      "metadata": {
        "id": "b4_frJCfWuuO",
        "colab_type": "code",
        "colab": {
          "base_uri": "https://localhost:8080/",
          "height": 233
        },
        "outputId": "34959aa1-4fd3-437d-d939-99fc34fed268"
      },
      "cell_type": "code",
      "source": [
        "from tensorflow.python.client import device_lib\n",
        "\n",
        "device_lib.list_local_devices()[-1]"
      ],
      "execution_count": 8,
      "outputs": [
        {
          "output_type": "execute_result",
          "data": {
            "text/plain": [
              "name: \"/device:GPU:0\"\n",
              "device_type: \"GPU\"\n",
              "memory_limit: 6750827316\n",
              "locality {\n",
              "  bus_id: 1\n",
              "  links {\n",
              "  }\n",
              "}\n",
              "incarnation: 11514698252802255939\n",
              "physical_device_desc: \"device: 0, name: Tesla K80, pci bus id: 0000:00:04.0, compute capability: 3.7\""
            ]
          },
          "metadata": {
            "tags": []
          },
          "execution_count": 8
        }
      ]
    },
    {
      "metadata": {
        "id": "dAmSJqCbWwRx",
        "colab_type": "code",
        "colab": {
          "base_uri": "https://localhost:8080/",
          "height": 92
        },
        "outputId": "bb57fb2a-27ab-494a-9d57-eb51feca78cd"
      },
      "cell_type": "code",
      "source": [
        "flag = 0\n",
        "# X, y = '', ''\n",
        "X = []\n",
        "for root, directories, files in os.walk(dataset_path):\n",
        "#   print (f\"{root}\\n\\n, Here{_}\\n\\n, {files}\\n\")\n",
        "    \n",
        "  for file in files:\n",
        "    try:\n",
        "        file_path = root + '/' + file\n",
        "#         print (file_path)\n",
        "        extension_list = ['jpg', 'jpeg', 'png', 'svg']\n",
        "        if (file_path.split('.')[-1] in extension_list):\n",
        "          X.append(file_path)\n",
        "        # class is dependent variable. Taken from folder name where images are kept\n",
        "        # ground_truth = int(file_path.strip().split('/')[-2]) -1\n",
        "#         print (file)\n",
        "#         im = matplotlib.pyplot.imread(file_path)\n",
        "#         image = np.array(im)\n",
        "#         if flag == 0:\n",
        "#           flag = 1\n",
        "#           X = np.array([image])\n",
        "#         else:\n",
        "#           X = np.append(X, [image], axis=0)\n",
        "    except Exception as e:\n",
        "        print (e)   \n",
        "        pass\n",
        "\n",
        "# data, labels = np.arange(10).reshape((5, 2)), range(5)\n",
        "# data_train, data_test, labels_train, labels_test = train_test_split(data, labels, test_size=0.20, random_state=42)\n",
        "\n",
        "# x_train, x_test, y_train, y_test = train_test_split(X, y, test_size=0.3)\n",
        "\n",
        "print (\"success\")\n",
        "print (len(X))"
      ],
      "execution_count": 9,
      "outputs": [
        {
          "output_type": "stream",
          "text": [
            "success\n",
            "3059\n"
          ],
          "name": "stdout"
        }
      ]
    },
    {
      "metadata": {
        "id": "JzrTBMi-WyGQ",
        "colab_type": "code",
        "colab": {}
      },
      "cell_type": "code",
      "source": [
        "# Helper function to load image\n",
        "def load_image( infilename ) :\n",
        "    img = PIL.Image.open( infilename )\n",
        "#     print ((img))\n",
        "#     print (np.array(img).shape)\n",
        "    img = img.resize((128, 128))\n",
        "    img.load()\n",
        "    data = np.asarray( img, dtype=\"int32\" )\n",
        "    return data"
      ],
      "execution_count": 0,
      "outputs": []
    },
    {
      "metadata": {
        "id": "QIw8UHpIWzyi",
        "colab_type": "code",
        "colab": {
          "base_uri": "https://localhost:8080/",
          "height": 307
        },
        "outputId": "0cf81cb1-d471-461f-cdcd-b3b4c01e3113"
      },
      "cell_type": "code",
      "source": [
        "X_backup = X\n",
        "print (len(X_backup))\n",
        "plt.imshow(load_image(X[3000]), interpolation='nearest')\n",
        "plt.show()"
      ],
      "execution_count": 11,
      "outputs": [
        {
          "output_type": "stream",
          "text": [
            "3059\n"
          ],
          "name": "stdout"
        },
        {
          "output_type": "display_data",
          "data": {
            "image/png": "[encoded data removed]",
            "text/plain": [
              "<Figure size 432x288 with 1 Axes>"
            ]
          },
          "metadata": {
            "tags": []
          }
        }
      ]
    },
    {
      "metadata": {
        "id": "jcLH6WktW1Kn",
        "colab_type": "code",
        "colab": {}
      },
      "cell_type": "code",
      "source": [
        "test = load_image(dataset_path + \"male/gjnorm/gjnorm.6.jpg\")"
      ],
      "execution_count": 0,
      "outputs": []
    },
    {
      "metadata": {
        "id": "sXYxU6HTW2h_",
        "colab_type": "code",
        "colab": {
          "base_uri": "https://localhost:8080/",
          "height": 76
        },
        "outputId": "0c41c02e-2ce4-484e-e19a-2adefed91749"
      },
      "cell_type": "code",
      "source": [
        "test.shape"
      ],
      "execution_count": 13,
      "outputs": [
        {
          "output_type": "execute_result",
          "data": {
            "text/plain": [
              "(128, 128, 3)"
            ]
          },
          "metadata": {
            "tags": []
          },
          "execution_count": 13
        }
      ]
    },
    {
      "metadata": {
        "id": "MrBI9riKW36Z",
        "colab_type": "code",
        "colab": {
          "base_uri": "https://localhost:8080/",
          "height": 76
        },
        "outputId": "06cd336f-2e1c-429d-e264-107bc8887637"
      },
      "cell_type": "code",
      "source": [
        "BUFFER_SIZE = 2944\n",
        "BATCH_SIZE = 32\n",
        "\n",
        "print(f\"Number Of Batches = {BUFFER_SIZE//BATCH_SIZE}\")"
      ],
      "execution_count": 14,
      "outputs": [
        {
          "output_type": "stream",
          "text": [
            "Number Of Batches = 92\n"
          ],
          "name": "stdout"
        }
      ]
    },
    {
      "metadata": {
        "id": "0G9vKe4EW8SM",
        "colab_type": "code",
        "colab": {
          "base_uri": "https://localhost:8080/",
          "height": 92
        },
        "outputId": "82a289a1-1409-4d50-a54b-d9462b08f389"
      },
      "cell_type": "code",
      "source": [
        "train_data = np.array(X)\n",
        "np.random.shuffle(train_data)\n",
        "print(len(train_data[:BUFFER_SIZE]))\n",
        "\n",
        "train_data = np.split(train_data[:BUFFER_SIZE], BUFFER_SIZE//BATCH_SIZE)\n",
        "\n",
        "print (f\"Number Of Batches = {len(train_data)}, Batch Size = {len(train_data[0])}\")"
      ],
      "execution_count": 15,
      "outputs": [
        {
          "output_type": "stream",
          "text": [
            "2944\n",
            "Number Of Batches = 92, Batch Size = 32\n"
          ],
          "name": "stdout"
        }
      ]
    },
    {
      "metadata": {
        "id": "ws-5qTMOW96s",
        "colab_type": "code",
        "colab": {}
      },
      "cell_type": "code",
      "source": [
        "!pip install -q pyyaml  # Required to save models in YAML format"
      ],
      "execution_count": 0,
      "outputs": []
    },
    {
      "metadata": {
        "id": "Y-og9tN3W_wY",
        "colab_type": "code",
        "colab": {}
      },
      "cell_type": "code",
      "source": [
        "def make_generator_model():\n",
        "  model = tf.keras.Sequential()\n",
        "  \n",
        "  model = tf.keras.Sequential()\n",
        "\n",
        "  # Encoder Layers\n",
        "  model.add(layers.Conv2D(8, (5, 5), strides=2, padding='same', input_shape=(128, 128, 3)))\n",
        "  model.add(layers.BatchNormalization())\n",
        "  model.add(layers.ReLU())\n",
        "  \n",
        "  model.add(layers.Conv2D(16, (5, 5), strides=2, padding='same'))\n",
        "  model.add(layers.BatchNormalization())\n",
        "  model.add(layers.ReLU())\n",
        "  \n",
        "  model.add(layers.Conv2D(32, (5, 5), strides=2, padding='same'))\n",
        "  model.add(layers.BatchNormalization())\n",
        "  model.add(layers.ReLU())\n",
        "  \n",
        "  model.add(layers.Conv2D(64, (5, 5), strides=2, padding='same'))\n",
        "  model.add(layers.BatchNormalization())\n",
        "  model.add(layers.ReLU())\n",
        "  \n",
        "  model.add(layers.Conv2D(100, (4, 4), strides=2, padding='same'))\n",
        "  model.add(layers.BatchNormalization())\n",
        "  model.add(layers.ReLU())\n",
        "  \n",
        "  ####\n",
        "  \n",
        "  model.add(layers.Conv2DTranspose(64, (4, 4), padding='same'))\n",
        "  model.add(layers.BatchNormalization())\n",
        "  model.add(layers.ReLU())\n",
        "  \n",
        "  model.add(layers.Conv2DTranspose(32, (6, 6), strides=2, padding='same'))\n",
        "  model.add(layers.BatchNormalization())\n",
        "  model.add(layers.ReLU())\n",
        "  \n",
        "  model.add(layers.Conv2DTranspose(16, (6, 6), strides=2, padding='same'))\n",
        "  model.add(layers.BatchNormalization())\n",
        "  model.add(layers.ReLU())\n",
        "  \n",
        "  model.add(layers.Conv2DTranspose(8, (7, 7), strides=2, padding='same'))\n",
        "  model.add(layers.BatchNormalization())\n",
        "  model.add(layers.ReLU())\n",
        "  \n",
        "  model.add(layers.Conv2DTranspose(8, (7, 7), strides=2, padding='same'))\n",
        "  model.add(layers.BatchNormalization())\n",
        "  model.add(layers.ReLU())\n",
        "  \n",
        "  model.add(layers.Conv2DTranspose(3, (8, 8), strides=2, padding='same'))\n",
        "  model.add(layers.BatchNormalization())\n",
        "  model.add(layers.ReLU())\n",
        "  \n",
        "  return model\n",
        "  \n",
        "  \n",
        "#   autoencoder.add(layers.MaxPooling2D((2, 2), padding='same'))\n",
        "#   autoencoder.add(layers.Conv2D(8, (3, 3), activation='relu', padding='same'))\n",
        "#   autoencoder.add(layers.MaxPooling2D((2, 2), padding='same'))\n",
        "#   autoencoder.add(layers.Conv2D(8, (3, 3), strides=(2,2), activation='relu', padding='same'))\n",
        "\n",
        "#   # Flatten encoding for visualization\n",
        "#   autoencoder.add(layers.Flatten())\n",
        "#   autoencoder.add(layers.Reshape((4, 4, 8)))\n",
        "\n",
        "#   # Decoder Layers\n",
        "#   autoencoder.add(layers.Conv2D(8, (3, 3), activation='relu', padding='same'))\n",
        "#   autoencoder.add(layers.UpSampling2D((2, 2)))\n",
        "#   autoencoder.add(layers.Conv2D(8, (3, 3), activation='relu', padding='same'))\n",
        "#   autoencoder.add(layers.UpSampling2D((2, 2)))\n",
        "#   autoencoder.add(layers.Conv2D(16, (3, 3), activation='relu'))\n",
        "#   autoencoder.add(layers.UpSampling2D((2, 2)))\n",
        "#   autoencoder.add(layers.Conv2D(3, (3, 3), activation='sigmoid', padding='same'))\n",
        "\n",
        "#   autoencoder.summary()\n",
        "  \n",
        "# #   Add a densely-connected layer to the model\n",
        "# #   the model will take as input arrays of shape (*, 100).\n",
        "# #   And and output arrays of shape (*, 4*4*256)\n",
        "  \n",
        " \n",
        "# #   Output of shape 4x4x1024. We're taking input noise of shape (100,1)\n",
        "\n",
        "#   model.add()\n",
        "\n",
        "#   input_img = layers.Input(shape=(128, 128, 3))\n",
        "\n",
        "\n",
        "  \n",
        "#   model.add(layers.Dense(4*4*1024, use_bias = False, input_shape = (128, 128,3)))\n",
        "  \n",
        " \n",
        "#   model.add(layers.BatchNormalization())\n",
        "\n",
        "#   model.add(layers.LeakyReLU())\n",
        "  \n",
        "#   model.add(layers.Reshape(( 4, 4, 1024)))\n",
        "#   #print(model.output_shape)\n",
        "#   #print(\"here 1\")\n",
        "#   assert model.output_shape == (None, 4, 4, 1024)\n",
        "  \n",
        "# #   \n",
        "# #   The generator uses a transposed convolutional layer (Upsampling) layers to produce an image from seed (random noise).\n",
        "  \n",
        "# #   128 is the dimensionality of the output space\n",
        "# #   (5,5) specifies the height and width of the 2D convolution window\n",
        "  \n",
        "# #   \n",
        "#   model.add(layers.Conv2DTranspose(512, (5, 5), strides = (2,2), padding = \"same\", use_bias = False))\n",
        "#   #print(model.output_shape)\n",
        "#   #print(\"here2\")\n",
        "#   assert model.output_shape == (None, 8, 8, 512)\n",
        "#   model.add(layers.BatchNormalization())\n",
        "#   model.add(layers.LeakyReLU())\n",
        "  \n",
        "#   # Another transposed convolutional layer (upsampling)\n",
        "#   #print(\"here3\")\n",
        "#   model.add(layers.Conv2DTranspose(256, (5,5), strides = (2,2), padding = \"same\", use_bias = False))\n",
        "#   #print(\"here4\")\n",
        "#   assert model.output_shape == (None, 16, 16, 256)\n",
        "#   model.add(layers.BatchNormalization())\n",
        "#   model.add(layers.LeakyReLU())\n",
        "  \n",
        "#   #print(\"here4\")\n",
        "#   model.add(layers.Conv2DTranspose(128, (5,5), strides = (2,2), padding = \"same\", use_bias = False))\n",
        "#   #print(\"here5\")\n",
        "#   assert model.output_shape == (None, 32, 32, 128)\n",
        "#   model.add(layers.BatchNormalization())\n",
        "#   model.add(layers.LeakyReLU())\n",
        "  \n",
        "  \n",
        "  \n",
        "#   # Final output layer also a convolutional layer (upsampling), tanh goes from -1 to 1\n",
        "#   #print(\"here6\")\n",
        "#   model.add(layers.Conv2DTranspose(64, (5,5), strides = (2,2), padding = \"same\", use_bias = False))\n",
        "#   assert model.output_shape == (None, 64, 64, 64)\n",
        "#   model.add(layers.BatchNormalization())\n",
        "#   model.add(layers.LeakyReLU())\n",
        "  \n",
        "#   model.add(layers.Conv2DTranspose(3, (5,5), strides = (2,2), padding = \"same\", use_bias = False, activation = \"tanh\"))\n",
        "\n",
        "\n",
        "#   #print(\"here7\")\n",
        "\n",
        "  \n",
        "#   print(f\"model.output_shape is {model.output_shape}\")\n",
        "#   assert model.output_shape == (None, 128, 128, 3)\n",
        "  \n",
        "  \n",
        "#   return model"
      ],
      "execution_count": 0,
      "outputs": []
    },
    {
      "metadata": {
        "id": "HSbBpMi3eWHv",
        "colab_type": "code",
        "colab": {}
      },
      "cell_type": "code",
      "source": [
        "generator = make_generator_model()"
      ],
      "execution_count": 0,
      "outputs": []
    },
    {
      "metadata": {
        "id": "UF7pLZwrdday",
        "colab_type": "code",
        "colab": {}
      },
      "cell_type": "code",
      "source": [
        "def make_discriminator_model():\n",
        "    model = tf.keras.Sequential()\n",
        "    \n",
        "    model.add(layers.Conv2D(32, (5, 5), strides=(2, 2), padding='same', input_shape=[128, 128, 3]))\n",
        "    model.add(layers.LeakyReLU())\n",
        "    model.add(layers.Dropout(0.3)) \n",
        "    \n",
        "    model.add(layers.Conv2D(64, (5, 5), strides=(2, 2), padding='same'))\n",
        "    model.add(layers.LeakyReLU())\n",
        "    model.add(layers.Dropout(0.3))\n",
        "    \n",
        "    model.add(layers.Conv2D(128, (5, 5), strides=(2, 2), padding='same'))\n",
        "    model.add(layers.LeakyReLU())\n",
        "    model.add(layers.Dropout(0.3))\n",
        "    \n",
        "    model.add(layers.Flatten())\n",
        "    model.add(layers.Dense(1))\n",
        "\n",
        "     \n",
        "    return model"
      ],
      "execution_count": 0,
      "outputs": []
    },
    {
      "metadata": {
        "id": "GV-gd4NuewsF",
        "colab_type": "code",
        "colab": {}
      },
      "cell_type": "code",
      "source": [
        "discriminator = make_discriminator_model()"
      ],
      "execution_count": 0,
      "outputs": []
    },
    {
      "metadata": {
        "id": "II8SUMnAdipi",
        "colab_type": "code",
        "colab": {}
      },
      "cell_type": "code",
      "source": [
        "cross_entropy = tf.keras.losses.BinaryCrossentropy(from_logits = True)"
      ],
      "execution_count": 0,
      "outputs": []
    },
    {
      "metadata": {
        "id": "aJZUI2UtdlLu",
        "colab_type": "code",
        "colab": {}
      },
      "cell_type": "code",
      "source": [
        "\n",
        "# Discriminator Loss\n",
        "\n",
        "# Discriminator takes inputs from image generated by generator and image from the\n",
        "# real dataset. \n",
        "\n",
        "def discriminator_loss(real_output, fake_output):\n",
        "  real_loss = cross_entropy(tf.ones_like(real_output), real_output)\n",
        "  fake_loss = cross_entropy(tf.zeros_like(fake_output), fake_output)\n",
        "  total_loss = real_loss + fake_loss\n",
        "  return total_loss"
      ],
      "execution_count": 0,
      "outputs": []
    },
    {
      "metadata": {
        "id": "DBHaUVPbdmoJ",
        "colab_type": "code",
        "colab": {}
      },
      "cell_type": "code",
      "source": [
        "# Generator Loss\n",
        "def generator_loss(fake_output):\n",
        "  return cross_entropy(tf.ones_like(fake_output), fake_output)"
      ],
      "execution_count": 0,
      "outputs": []
    },
    {
      "metadata": {
        "id": "mROlnRqJdnwe",
        "colab_type": "code",
        "colab": {}
      },
      "cell_type": "code",
      "source": [
        "generator_optimizer = tf.keras.optimizers.Adam(1e-4)\n",
        "discriminator_optimizer = tf.keras.optimizers.Adam(1e-4)"
      ],
      "execution_count": 0,
      "outputs": []
    },
    {
      "metadata": {
        "id": "HFVvRY6MdpST",
        "colab_type": "code",
        "colab": {}
      },
      "cell_type": "code",
      "source": [
        "EPOCHS = 50\n",
        "noise_dim = 100\n",
        "num_examples_to_generate = 8\n",
        "\n",
        "seed = tf.random.normal([num_examples_to_generate, 128, 128, 3])\n",
        "\n"
      ],
      "execution_count": 0,
      "outputs": []
    },
    {
      "metadata": {
        "id": "wckoEruQdtiM",
        "colab_type": "code",
        "colab": {}
      },
      "cell_type": "code",
      "source": [
        "# Helper function to load image\n",
        "def load_image( infilename ) :\n",
        "    img = PIL.Image.open( infilename )\n",
        "#     print ((img))\n",
        "#     print (np.array(img).shape)\n",
        "    img = img.resize((128, 128))\n",
        "    img.load()\n",
        "    data = np.asarray( img, dtype=\"int32\" )\n",
        "    return data"
      ],
      "execution_count": 0,
      "outputs": []
    },
    {
      "metadata": {
        "id": "2b9I7y-SdvMo",
        "colab_type": "code",
        "colab": {}
      },
      "cell_type": "code",
      "source": [
        "def train_step(images):\n",
        "    noise = tf.random.normal([BATCH_SIZE, noise_dim])\n",
        "    \n",
        "    # take the image links and return a cropped image\n",
        "    new_images = []\n",
        "    #print(\"here1 ...\")\n",
        "    i = 0 \n",
        "    for file_name in images:\n",
        "        # print(file_name)\n",
        "        # print(\"Hey here\")\n",
        "        # print(i)\n",
        "        i+=1\n",
        "        new_pic = load_image(file_name)\n",
        "        #print(\"ok\")\n",
        "        new_images.append(new_pic)\n",
        "        #print(\"now what\")\n",
        "    \n",
        "    # print (f\"length = {len(new_images)}\")\n",
        "    \n",
        "    #print(\"here 2\")\n",
        "    images = np.array(new_images)\n",
        "    #print(\"reconfiguring complete\")\n",
        "    # Do some reshaping\n",
        "    # print(f\"{images.shape} images.shape[0] = {images.shape[0]}\")\n",
        "    images = images.reshape(images.shape[0], 128, 128, 3).astype('float32') # puts each number in its own numpy array so instead of [1,2,3] gonna be [[1], [2], [3]]\n",
        "    # print(\"here 3\")\n",
        "    images = (images - 127.5)/127.5 # Normalize the images to [-1. 1] so if it was 0 --> -1 and if it was 255 --> 1\n",
        "    # print(\"Normalized the data\")\n",
        "    \n",
        "    with tf.GradientTape() as gen_tape, tf.GradientTape() as disc_tape:\n",
        "      generated_images = generator(images, training=True)\n",
        "\n",
        "      real_output = discriminator(images, training=True)\n",
        "      fake_output = discriminator(generated_images, training=True)\n",
        "\n",
        "      gen_loss = generator_loss(fake_output)\n",
        "      disc_loss = discriminator_loss(real_output, fake_output)\n",
        "\n",
        "    gradients_of_generator = gen_tape.gradient(gen_loss, generator.trainable_variables)\n",
        "    gradients_of_discriminator = disc_tape.gradient(disc_loss, discriminator.trainable_variables)\n",
        "\n",
        "    generator_optimizer.apply_gradients(zip(gradients_of_generator, generator.trainable_variables)) # The zip() function returns an iterator of tuples based on the iterable object.\n",
        "    discriminator_optimizer.apply_gradients(zip(gradients_of_discriminator, discriminator.trainable_variables))\n",
        "    \n",
        "    # free memory!\n",
        "    images = None\n",
        "    \n",
        "    return gen_loss, disc_loss"
      ],
      "execution_count": 0,
      "outputs": []
    },
    {
      "metadata": {
        "id": "0fI8UXyxdwex",
        "colab_type": "code",
        "colab": {}
      },
      "cell_type": "code",
      "source": [
        "generator_loss_epoch = []\n",
        "discriminator_loss_epoch = []"
      ],
      "execution_count": 0,
      "outputs": []
    },
    {
      "metadata": {
        "id": "H4G2Ri5DlLYu",
        "colab_type": "code",
        "colab": {}
      },
      "cell_type": "code",
      "source": [
        "checkpoint_dir = \"./training_checkpoints\"\n",
        "checkpoint_prefix = os.path.join(checkpoint_dir, \"ckpt\")\n",
        "checkpoint = tf.train.Checkpoint(generator_optimizer = generator_optimizer,\n",
        "                                 discriminator_optimizer = discriminator_optimizer,\n",
        "                                 generator = generator,\n",
        "                                 discriminator = discriminator)"
      ],
      "execution_count": 0,
      "outputs": []
    },
    {
      "metadata": {
        "id": "KLhnLIXteA44",
        "colab_type": "code",
        "colab": {}
      },
      "cell_type": "code",
      "source": [
        "def train(dataset, epochs, X_data):  \n",
        "  \n",
        "  for epoch in range(epochs):\n",
        "    start = time.time()\n",
        "    batch_no = 1\n",
        "    for image_batch in dataset:\n",
        "      print(f\"batch_no = {batch_no}\")\n",
        "      batch_no += 1\n",
        "      g_loss, d_loss = train_step(image_batch)\n",
        "      \n",
        "\n",
        "    # Produce images for the GIF as we go\n",
        "    display.clear_output(wait=True)\n",
        "    generator_loss_epoch.append(g_loss)\n",
        "    discriminator_loss_epoch.append(d_loss)\n",
        "    \n",
        "    print (f\"Generator Loss is {g_loss} \\nDiscriminator Loss is {d_loss}\")\n",
        "\n",
        "    generate_and_save_images(generator,\n",
        "                             epoch + 1,\n",
        "                             np.array(X_data))\n",
        "    \n",
        "    # Save the model every 15 epochs\n",
        "    if (epoch + 1) % 15 == 0:\n",
        "      checkpoint.save(file_prefix = checkpoint_prefix)\n",
        "    \n",
        "    print ('Time for epoch {} is {} sec'.format(epoch + 1, time.time()-start))\n",
        "    \n",
        "  # Generate after the final epoch\n",
        "  display.clear_output(wait=True)\n",
        "  generate_and_save_images(generator,\n",
        "                           epochs,\n",
        "                           np.array(X_data))"
      ],
      "execution_count": 0,
      "outputs": []
    },
    {
      "metadata": {
        "id": "wQOnGkw3eD4L",
        "colab_type": "code",
        "colab": {}
      },
      "cell_type": "code",
      "source": [
        "def generate_and_save_images(model, epoch, test_input):\n",
        "  print(test_input.shape)\n",
        "  predictions = model(test_input, training=False)\n",
        "  fig = plt.figure(figsize=(4,4))\n",
        "#   print (predictions[0], predictions[0]*255,predictions[0].shape )\n",
        "  for i in range(predictions.shape[0]):\n",
        "      plt.subplot(8, 8, i+1)\n",
        "      plt.imshow(predictions[i])\n",
        "      plt.axis('off')\n",
        "  plt.savefig('image_at_epoch_{:04d}.png'.format(epoch))\n",
        "  plt.show()"
      ],
      "execution_count": 0,
      "outputs": []
    },
    {
      "metadata": {
        "id": "vAKIcZOz4OSe",
        "colab_type": "code",
        "colab": {
          "base_uri": "https://localhost:8080/",
          "height": 76
        },
        "outputId": "846307d3-a923-4dac-eb16-2642a9d2d21d"
      },
      "cell_type": "code",
      "source": [
        "\n",
        "X_data = []\n",
        "for i in range(num_examples_to_generate):\n",
        "    image = load_image(X[i])\n",
        "    X_data.append(image.astype('float32'))\n",
        "\n",
        "print('X_data shape:', np.array(X_data).shape, seed.shape)"
      ],
      "execution_count": 32,
      "outputs": [
        {
          "output_type": "stream",
          "text": [
            "X_data shape: (8, 128, 128, 3) (8, 128, 128, 3)\n"
          ],
          "name": "stdout"
        }
      ]
    },
    {
      "metadata": {
        "id": "-ptB3MgDeGJw",
        "colab_type": "code",
        "colab": {
          "base_uri": "https://localhost:8080/",
          "height": 288
        },
        "outputId": "89506f19-2fe1-4141-d5f5-a4de2778b9ba"
      },
      "cell_type": "code",
      "source": [
        "%%time\n",
        "print(f\"{len(train_data)} batches of size -> {len(train_data[0])}\")\n",
        "\n",
        "train(train_data, 50, X_data)"
      ],
      "execution_count": 0,
      "outputs": [
        {
          "output_type": "stream",
          "text": [
            "W0414 17:09:20.243619 140401446246272 image.py:648] Clipping input data to the valid range for imshow with RGB data ([0..1] for floats or [0..255] for integers).\n",
            "W0414 17:09:20.275308 140401446246272 image.py:648] Clipping input data to the valid range for imshow with RGB data ([0..1] for floats or [0..255] for integers).\n",
            "W0414 17:09:20.304497 140401446246272 image.py:648] Clipping input data to the valid range for imshow with RGB data ([0..1] for floats or [0..255] for integers).\n",
            "W0414 17:09:20.335026 140401446246272 image.py:648] Clipping input data to the valid range for imshow with RGB data ([0..1] for floats or [0..255] for integers).\n",
            "W0414 17:09:20.366135 140401446246272 image.py:648] Clipping input data to the valid range for imshow with RGB data ([0..1] for floats or [0..255] for integers).\n"
          ],
          "name": "stderr"
        },
        {
          "output_type": "stream",
          "text": [
            "(8, 128, 128, 3)\n"
          ],
          "name": "stdout"
        },
        {
          "output_type": "stream",
          "text": [
            "W0414 17:09:20.408248 140401446246272 image.py:648] Clipping input data to the valid range for imshow with RGB data ([0..1] for floats or [0..255] for integers).\n",
            "W0414 17:09:20.440234 140401446246272 image.py:648] Clipping input data to the valid range for imshow with RGB data ([0..1] for floats or [0..255] for integers).\n",
            "W0414 17:09:20.858031 140401446246272 image.py:648] Clipping input data to the valid range for imshow with RGB data ([0..1] for floats or [0..255] for integers).\n"
          ],
          "name": "stderr"
        },
        {
          "output_type": "display_data",
          "data": {
            "image/png": "[encoded data removed]",
            "text/plain": [
              "<Figure size 288x288 with 8 Axes>"
            ]
          },
          "metadata": {
            "tags": []
          }
        },
        {
          "output_type": "stream",
          "text": [
            "CPU times: user 26min 2s, sys: 4min 20s, total: 30min 23s\n",
            "Wall time: 46min 26s\n"
          ],
          "name": "stdout"
        }
      ]
    },
    {
      "metadata": {
        "id": "U4sgDYtGkJnW",
        "colab_type": "code",
        "colab": {
          "base_uri": "https://localhost:8080/",
          "height": 273
        },
        "outputId": "d907db91-f886-4944-c062-415c73f544a5"
      },
      "cell_type": "code",
      "source": [
        "\n",
        "X_data = []\n",
        "for i in range(num_examples_to_generate):\n",
        "    image = load_image(X[i])\n",
        "    X_data.append(image.astype('float32'))\n",
        "\n",
        "print('X_data shape:', np.array(X_data).shape, seed.shape)\n",
        "generate_and_save_images(generator,\n",
        "                           50,\n",
        "                           np.array(X_data))"
      ],
      "execution_count": 43,
      "outputs": [
        {
          "output_type": "stream",
          "text": [
            "W0414 10:51:26.660737 140494359840640 image.py:648] Clipping input data to the valid range for imshow with RGB data ([0..1] for floats or [0..255] for integers).\n",
            "W0414 10:51:26.676346 140494359840640 image.py:648] Clipping input data to the valid range for imshow with RGB data ([0..1] for floats or [0..255] for integers).\n",
            "W0414 10:51:26.692762 140494359840640 image.py:648] Clipping input data to the valid range for imshow with RGB data ([0..1] for floats or [0..255] for integers).\n",
            "W0414 10:51:26.707424 140494359840640 image.py:648] Clipping input data to the valid range for imshow with RGB data ([0..1] for floats or [0..255] for integers).\n",
            "W0414 10:51:26.723072 140494359840640 image.py:648] Clipping input data to the valid range for imshow with RGB data ([0..1] for floats or [0..255] for integers).\n",
            "W0414 10:51:26.739818 140494359840640 image.py:648] Clipping input data to the valid range for imshow with RGB data ([0..1] for floats or [0..255] for integers).\n",
            "W0414 10:51:26.757942 140494359840640 image.py:648] Clipping input data to the valid range for imshow with RGB data ([0..1] for floats or [0..255] for integers).\n"
          ],
          "name": "stderr"
        },
        {
          "output_type": "stream",
          "text": [
            "X_data shape: (8, 128, 128, 3) (8, 128, 128, 3)\n",
            "(8, 128, 128, 3)\n"
          ],
          "name": "stdout"
        },
        {
          "output_type": "stream",
          "text": [
            "W0414 10:51:26.774963 140494359840640 image.py:648] Clipping input data to the valid range for imshow with RGB data ([0..1] for floats or [0..255] for integers).\n"
          ],
          "name": "stderr"
        },
        {
          "output_type": "display_data",
          "data": {
            "image/png": "[encoded data removed]",
            "text/plain": [
              "<Figure size 288x288 with 8 Axes>"
            ]
          },
          "metadata": {
            "tags": []
          }
        }
      ]
    },
    {
      "metadata": {
        "id": "QJ0-E4CskFoz",
        "colab_type": "code",
        "colab": {}
      },
      "cell_type": "code",
      "source": [
        ""
      ],
      "execution_count": 0,
      "outputs": []
    },
    {
      "metadata": {
        "id": "WvQt4EiCeOvc",
        "colab_type": "code",
        "colab": {}
      },
      "cell_type": "code",
      "source": [
        ""
      ],
      "execution_count": 0,
      "outputs": []
    }
  ]
}